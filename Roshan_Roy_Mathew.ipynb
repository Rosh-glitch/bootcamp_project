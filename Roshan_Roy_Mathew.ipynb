{
  "nbformat": 4,
  "nbformat_minor": 0,
  "metadata": {
    "colab": {
      "name": "Roshan Roy Mathew.ipynb",
      "provenance": []
    },
    "kernelspec": {
      "name": "python3",
      "display_name": "Python 3"
    },
    "language_info": {
      "name": "python"
    }
  },
  "cells": [
    {
      "cell_type": "code",
      "metadata": {
        "colab": {
          "base_uri": "https://localhost:8080/"
        },
        "id": "dgmX2D7H6wXC",
        "outputId": "c5dcd460-7a40-4258-f904-d9119d4d3be7"
      },
      "source": [
        "import requests\n",
        "from datetime import datetime\n",
        "\n",
        "api_key = '87d845b0b6cf29baa1a73cc34b067a95'\n",
        "location = input(\"Enter the city name:\")\n",
        "\n",
        "complete_api_link = \"https://api.openweathermap.org/data/2.5/weather?q=\"+location+\"&appid=\"+api_key\n",
        "api_link = requests.get(complete_api_link)\n",
        "api_data = api_link.json()\n",
        "\n",
        "temp_city = ((api_data['main']['temp'])- 273.15)\n",
        "weather_desc = api_data['weather'][0]['description']\n",
        "hmdt = api_data['main']['humidity']\n",
        "wind_speed = api_data['wind']['speed']\n",
        "date_time = datetime.now().strftime(\"%d %b %Y | %I:%M:%S %p\")\n",
        "\n",
        "print(\"----------------------------------------------------------\")\n",
        "print(\"Weather Stats for - {}  || {}\".format(location.upper(), date_time))\n",
        "print(\"----------------------------------------------------------\")\n",
        "\n",
        "print(\"Current temperature is: {:.2f} deg C\".format(temp_city))\n",
        "print(\"Current weather desc  :\",weather_desc)\n",
        "print(\"Current Humidity      :\",hmdt, '%')\n",
        "print(\"Current wind speed    :\",wind_speed , 'kmph')\n",
        "\n"
      ],
      "execution_count": 3,
      "outputs": [
        {
          "output_type": "stream",
          "text": [
            "Enter the city name:Kollam\n",
            "----------------------------------------------------------\n",
            "Weather Stats for - KOLLAM  || 22 Jun 2021 | 06:33:39 PM\n",
            "----------------------------------------------------------\n",
            "Current temperature is: 26.93 deg C\n",
            "Current weather desc  : overcast clouds\n",
            "Current Humidity      : 89 %\n",
            "Current wind speed    : 3.83 kmph\n"
          ],
          "name": "stdout"
        }
      ]
    }
  ]
}